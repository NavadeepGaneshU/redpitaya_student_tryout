{
 "cells": [
  {
   "cell_type": "markdown",
   "metadata": {},
   "source": [
    "## Stepper Motor Controller using PYNQ-Z2"
   ]
  },
  {
   "cell_type": "code",
   "execution_count": 1,
   "metadata": {},
   "outputs": [
    {
     "data": {
      "application/javascript": [
       "\n",
       "require(['notebook/js/codecell'], function(codecell) {\n",
       "  codecell.CodeCell.options_default.highlight_modes[\n",
       "      'magic_text/x-csrc'] = {'reg':[/^%%microblaze/]};\n",
       "  Jupyter.notebook.events.one('kernel_ready.Kernel', function(){\n",
       "      Jupyter.notebook.get_cells().map(function(cell){\n",
       "          if (cell.cell_type == 'code'){ cell.auto_highlight(); } }) ;\n",
       "  });\n",
       "});\n"
      ]
     },
     "metadata": {},
     "output_type": "display_data"
    }
   ],
   "source": [
    "#import the bitstream file from directory\n",
    "from pynq import Overlay\n",
    "ol=Overlay(\"PYNQ_stepper_ctrl.bit\")"
   ]
  },
  {
   "cell_type": "code",
   "execution_count": 2,
   "metadata": {},
   "outputs": [],
   "source": [
    "#import and assign GPIOs as output\n",
    "from pynq import GPIO\n",
    "left = GPIO(GPIO.get_gpio_pin(0), 'out')\n",
    "right = GPIO(GPIO.get_gpio_pin(1), 'out')\n",
    "stop = GPIO(GPIO.get_gpio_pin(2), 'out')"
   ]
  },
  {
   "cell_type": "code",
   "execution_count": 3,
   "metadata": {},
   "outputs": [],
   "source": [
    "#initialize these GPIO states\n",
    "stop.write(0)\n",
    "left.write(1)\n",
    "right.write(0)\n",
    "stop.write(1)"
   ]
  },
  {
   "cell_type": "code",
   "execution_count": 3,
   "metadata": {},
   "outputs": [
    {
     "name": "stdout",
     "output_type": "stream",
     "text": [
      "FCLK0: 10.000000MHz\n"
     ]
    }
   ],
   "source": [
    "#import clock and configure speed. This clock rate defines speed of stepper motor\n",
    "from pynq import Clocks\n",
    "Clocks.fclk0_mhz = 10\n",
    "(print(f'FCLK0: {Clocks.fclk0_mhz:.6f}MHz'))"
   ]
  },
  {
   "cell_type": "code",
   "execution_count": 29,
   "metadata": {},
   "outputs": [],
   "source": [
    "#turn the motor to 'left'\n",
    "stop.write(1)\n",
    "right.write(0)\n",
    "left.write(1)\n",
    "stop.write(1)"
   ]
  },
  {
   "cell_type": "code",
   "execution_count": 30,
   "metadata": {},
   "outputs": [],
   "source": [
    "#turn the motor to 'right'\n",
    "stop.write(1)\n",
    "right.write(1)\n",
    "left.write(0)\n",
    "stop.write(1)"
   ]
  },
  {
   "cell_type": "code",
   "execution_count": 26,
   "metadata": {},
   "outputs": [],
   "source": [
    "#stop the motor\n",
    "stop.write(1)\n",
    "right.write(0)\n",
    "left.write(1)\n",
    "stop.write(1)"
   ]
  }
 ],
 "metadata": {
  "kernelspec": {
   "display_name": "Python 3",
   "language": "python",
   "name": "python3"
  },
  "language_info": {
   "codemirror_mode": {
    "name": "ipython",
    "version": 3
   },
   "file_extension": ".py",
   "mimetype": "text/x-python",
   "name": "python",
   "nbconvert_exporter": "python",
   "pygments_lexer": "ipython3",
   "version": "3.6.5"
  }
 },
 "nbformat": 4,
 "nbformat_minor": 2
}
